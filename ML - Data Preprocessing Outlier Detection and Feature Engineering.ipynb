{
 "cells": [
  {
   "cell_type": "markdown",
   "id": "53cb290d-dcec-4f32-9c8f-a26b074b3dde",
   "metadata": {},
   "source": [
    "# ANKIT KUMAR- Data Preprocessing, Outlier Detection and Feature Engineering"
   ]
  },
  {
   "cell_type": "code",
   "execution_count": 1,
   "id": "9340b5ed-c3f0-4c63-82a4-a28b5802ebca",
   "metadata": {},
   "outputs": [],
   "source": [
    "import pandas as pd\n",
    "import matplotlib.pyplot as plt\n",
    "import seaborn as sns\n",
    "import warnings\n",
    "warnings.filterwarnings('ignore')"
   ]
  },
  {
   "cell_type": "markdown",
   "id": "2bc53a49-9c19-4309-be46-3a04b35feb1e",
   "metadata": {},
   "source": [
    "# TASKS"
   ]
  },
  {
   "cell_type": "markdown",
   "id": "ac46fdb9-ddbb-437e-8483-271d1a4f6e11",
   "metadata": {},
   "source": [
    ">Import the Titanic dataset and display its first few rows."
   ]
  },
  {
   "cell_type": "code",
   "execution_count": 2,
   "id": "e9f1cc76-edcc-48ec-9984-5c73e3f9aad7",
   "metadata": {},
   "outputs": [
    {
     "data": {
      "text/html": [
       "<div>\n",
       "<style scoped>\n",
       "    .dataframe tbody tr th:only-of-type {\n",
       "        vertical-align: middle;\n",
       "    }\n",
       "\n",
       "    .dataframe tbody tr th {\n",
       "        vertical-align: top;\n",
       "    }\n",
       "\n",
       "    .dataframe thead th {\n",
       "        text-align: right;\n",
       "    }\n",
       "</style>\n",
       "<table border=\"1\" class=\"dataframe\">\n",
       "  <thead>\n",
       "    <tr style=\"text-align: right;\">\n",
       "      <th></th>\n",
       "      <th>PassengerId</th>\n",
       "      <th>Pclass</th>\n",
       "      <th>Name</th>\n",
       "      <th>Sex</th>\n",
       "      <th>Age</th>\n",
       "      <th>SibSp</th>\n",
       "      <th>Parch</th>\n",
       "      <th>Ticket</th>\n",
       "      <th>Fare</th>\n",
       "      <th>Cabin</th>\n",
       "      <th>Embarked</th>\n",
       "      <th>Survived</th>\n",
       "    </tr>\n",
       "  </thead>\n",
       "  <tbody>\n",
       "    <tr>\n",
       "      <th>0</th>\n",
       "      <td>1</td>\n",
       "      <td>3</td>\n",
       "      <td>Braund, Mr. Owen Harris</td>\n",
       "      <td>male</td>\n",
       "      <td>22.0</td>\n",
       "      <td>1</td>\n",
       "      <td>0</td>\n",
       "      <td>A/5 21171</td>\n",
       "      <td>7.2500</td>\n",
       "      <td>NaN</td>\n",
       "      <td>S</td>\n",
       "      <td>0</td>\n",
       "    </tr>\n",
       "    <tr>\n",
       "      <th>1</th>\n",
       "      <td>2</td>\n",
       "      <td>1</td>\n",
       "      <td>Cumings, Mrs. John Bradley (Florence Briggs Th...</td>\n",
       "      <td>female</td>\n",
       "      <td>38.0</td>\n",
       "      <td>1</td>\n",
       "      <td>0</td>\n",
       "      <td>PC 17599</td>\n",
       "      <td>71.2833</td>\n",
       "      <td>C85</td>\n",
       "      <td>C</td>\n",
       "      <td>1</td>\n",
       "    </tr>\n",
       "    <tr>\n",
       "      <th>2</th>\n",
       "      <td>3</td>\n",
       "      <td>3</td>\n",
       "      <td>Heikkinen, Miss. Laina</td>\n",
       "      <td>female</td>\n",
       "      <td>26.0</td>\n",
       "      <td>0</td>\n",
       "      <td>0</td>\n",
       "      <td>STON/O2. 3101282</td>\n",
       "      <td>7.9250</td>\n",
       "      <td>NaN</td>\n",
       "      <td>S</td>\n",
       "      <td>1</td>\n",
       "    </tr>\n",
       "    <tr>\n",
       "      <th>3</th>\n",
       "      <td>4</td>\n",
       "      <td>1</td>\n",
       "      <td>Futrelle, Mrs. Jacques Heath (Lily May Peel)</td>\n",
       "      <td>female</td>\n",
       "      <td>35.0</td>\n",
       "      <td>1</td>\n",
       "      <td>0</td>\n",
       "      <td>113803</td>\n",
       "      <td>53.1000</td>\n",
       "      <td>C123</td>\n",
       "      <td>S</td>\n",
       "      <td>1</td>\n",
       "    </tr>\n",
       "    <tr>\n",
       "      <th>4</th>\n",
       "      <td>5</td>\n",
       "      <td>3</td>\n",
       "      <td>Allen, Mr. William Henry</td>\n",
       "      <td>male</td>\n",
       "      <td>35.0</td>\n",
       "      <td>0</td>\n",
       "      <td>0</td>\n",
       "      <td>373450</td>\n",
       "      <td>8.0500</td>\n",
       "      <td>NaN</td>\n",
       "      <td>S</td>\n",
       "      <td>0</td>\n",
       "    </tr>\n",
       "  </tbody>\n",
       "</table>\n",
       "</div>"
      ],
      "text/plain": [
       "   PassengerId  Pclass                                               Name  \\\n",
       "0            1       3                            Braund, Mr. Owen Harris   \n",
       "1            2       1  Cumings, Mrs. John Bradley (Florence Briggs Th...   \n",
       "2            3       3                             Heikkinen, Miss. Laina   \n",
       "3            4       1       Futrelle, Mrs. Jacques Heath (Lily May Peel)   \n",
       "4            5       3                           Allen, Mr. William Henry   \n",
       "\n",
       "      Sex   Age  SibSp  Parch            Ticket     Fare Cabin Embarked  \\\n",
       "0    male  22.0      1      0         A/5 21171   7.2500   NaN        S   \n",
       "1  female  38.0      1      0          PC 17599  71.2833   C85        C   \n",
       "2  female  26.0      0      0  STON/O2. 3101282   7.9250   NaN        S   \n",
       "3  female  35.0      1      0            113803  53.1000  C123        S   \n",
       "4    male  35.0      0      0            373450   8.0500   NaN        S   \n",
       "\n",
       "   Survived  \n",
       "0         0  \n",
       "1         1  \n",
       "2         1  \n",
       "3         1  \n",
       "4         0  "
      ]
     },
     "execution_count": 2,
     "metadata": {},
     "output_type": "execute_result"
    }
   ],
   "source": [
    "# Load the Titanic dataset\n",
    "df = pd.read_csv(r\"D:\\Downloads\\titanic dataset.csv\")\n",
    "\n",
    "# Display the first 5 rows\n",
    "df.head()"
   ]
  },
  {
   "cell_type": "markdown",
   "id": "c684fcf9-ab21-40d7-b538-78484cc23ca5",
   "metadata": {},
   "source": [
    ">Identify key features (e.g., Pclass, Age, SibSp, Parch, Fare, Embarked, etc.)."
   ]
  },
  {
   "cell_type": "code",
   "execution_count": 3,
   "id": "21f0e016-a09c-4436-a8d7-4f36462888b6",
   "metadata": {},
   "outputs": [
    {
     "name": "stdout",
     "output_type": "stream",
     "text": [
      "<class 'pandas.core.frame.DataFrame'>\n",
      "RangeIndex: 1309 entries, 0 to 1308\n",
      "Data columns (total 12 columns):\n",
      " #   Column       Non-Null Count  Dtype  \n",
      "---  ------       --------------  -----  \n",
      " 0   PassengerId  1309 non-null   int64  \n",
      " 1   Pclass       1309 non-null   int64  \n",
      " 2   Name         1309 non-null   object \n",
      " 3   Sex          1309 non-null   object \n",
      " 4   Age          1046 non-null   float64\n",
      " 5   SibSp        1309 non-null   int64  \n",
      " 6   Parch        1309 non-null   int64  \n",
      " 7   Ticket       1309 non-null   object \n",
      " 8   Fare         1308 non-null   float64\n",
      " 9   Cabin        295 non-null    object \n",
      " 10  Embarked     1307 non-null   object \n",
      " 11  Survived     1309 non-null   int64  \n",
      "dtypes: float64(2), int64(5), object(5)\n",
      "memory usage: 122.8+ KB\n"
     ]
    },
    {
     "data": {
      "text/html": [
       "<div>\n",
       "<style scoped>\n",
       "    .dataframe tbody tr th:only-of-type {\n",
       "        vertical-align: middle;\n",
       "    }\n",
       "\n",
       "    .dataframe tbody tr th {\n",
       "        vertical-align: top;\n",
       "    }\n",
       "\n",
       "    .dataframe thead th {\n",
       "        text-align: right;\n",
       "    }\n",
       "</style>\n",
       "<table border=\"1\" class=\"dataframe\">\n",
       "  <thead>\n",
       "    <tr style=\"text-align: right;\">\n",
       "      <th></th>\n",
       "      <th>PassengerId</th>\n",
       "      <th>Pclass</th>\n",
       "      <th>Age</th>\n",
       "      <th>SibSp</th>\n",
       "      <th>Parch</th>\n",
       "      <th>Fare</th>\n",
       "      <th>Survived</th>\n",
       "    </tr>\n",
       "  </thead>\n",
       "  <tbody>\n",
       "    <tr>\n",
       "      <th>count</th>\n",
       "      <td>1309.000000</td>\n",
       "      <td>1309.000000</td>\n",
       "      <td>1046.000000</td>\n",
       "      <td>1309.000000</td>\n",
       "      <td>1309.000000</td>\n",
       "      <td>1308.000000</td>\n",
       "      <td>1309.000000</td>\n",
       "    </tr>\n",
       "    <tr>\n",
       "      <th>mean</th>\n",
       "      <td>655.000000</td>\n",
       "      <td>2.294882</td>\n",
       "      <td>29.881138</td>\n",
       "      <td>0.498854</td>\n",
       "      <td>0.385027</td>\n",
       "      <td>33.295479</td>\n",
       "      <td>0.423224</td>\n",
       "    </tr>\n",
       "    <tr>\n",
       "      <th>std</th>\n",
       "      <td>378.020061</td>\n",
       "      <td>0.837836</td>\n",
       "      <td>14.413493</td>\n",
       "      <td>1.041658</td>\n",
       "      <td>0.865560</td>\n",
       "      <td>51.758668</td>\n",
       "      <td>0.494259</td>\n",
       "    </tr>\n",
       "    <tr>\n",
       "      <th>min</th>\n",
       "      <td>1.000000</td>\n",
       "      <td>1.000000</td>\n",
       "      <td>0.170000</td>\n",
       "      <td>0.000000</td>\n",
       "      <td>0.000000</td>\n",
       "      <td>0.000000</td>\n",
       "      <td>0.000000</td>\n",
       "    </tr>\n",
       "    <tr>\n",
       "      <th>25%</th>\n",
       "      <td>328.000000</td>\n",
       "      <td>2.000000</td>\n",
       "      <td>21.000000</td>\n",
       "      <td>0.000000</td>\n",
       "      <td>0.000000</td>\n",
       "      <td>7.895800</td>\n",
       "      <td>0.000000</td>\n",
       "    </tr>\n",
       "    <tr>\n",
       "      <th>50%</th>\n",
       "      <td>655.000000</td>\n",
       "      <td>3.000000</td>\n",
       "      <td>28.000000</td>\n",
       "      <td>0.000000</td>\n",
       "      <td>0.000000</td>\n",
       "      <td>14.454200</td>\n",
       "      <td>0.000000</td>\n",
       "    </tr>\n",
       "    <tr>\n",
       "      <th>75%</th>\n",
       "      <td>982.000000</td>\n",
       "      <td>3.000000</td>\n",
       "      <td>39.000000</td>\n",
       "      <td>1.000000</td>\n",
       "      <td>0.000000</td>\n",
       "      <td>31.275000</td>\n",
       "      <td>1.000000</td>\n",
       "    </tr>\n",
       "    <tr>\n",
       "      <th>max</th>\n",
       "      <td>1309.000000</td>\n",
       "      <td>3.000000</td>\n",
       "      <td>80.000000</td>\n",
       "      <td>8.000000</td>\n",
       "      <td>9.000000</td>\n",
       "      <td>512.329200</td>\n",
       "      <td>1.000000</td>\n",
       "    </tr>\n",
       "  </tbody>\n",
       "</table>\n",
       "</div>"
      ],
      "text/plain": [
       "       PassengerId       Pclass          Age        SibSp        Parch  \\\n",
       "count  1309.000000  1309.000000  1046.000000  1309.000000  1309.000000   \n",
       "mean    655.000000     2.294882    29.881138     0.498854     0.385027   \n",
       "std     378.020061     0.837836    14.413493     1.041658     0.865560   \n",
       "min       1.000000     1.000000     0.170000     0.000000     0.000000   \n",
       "25%     328.000000     2.000000    21.000000     0.000000     0.000000   \n",
       "50%     655.000000     3.000000    28.000000     0.000000     0.000000   \n",
       "75%     982.000000     3.000000    39.000000     1.000000     0.000000   \n",
       "max    1309.000000     3.000000    80.000000     8.000000     9.000000   \n",
       "\n",
       "              Fare     Survived  \n",
       "count  1308.000000  1309.000000  \n",
       "mean     33.295479     0.423224  \n",
       "std      51.758668     0.494259  \n",
       "min       0.000000     0.000000  \n",
       "25%       7.895800     0.000000  \n",
       "50%      14.454200     0.000000  \n",
       "75%      31.275000     1.000000  \n",
       "max     512.329200     1.000000  "
      ]
     },
     "execution_count": 3,
     "metadata": {},
     "output_type": "execute_result"
    }
   ],
   "source": [
    "# Display dataset columns and their data types\n",
    "df.info()\n",
    "\n",
    "# Describe numerical features\n",
    "df.describe()\n"
   ]
  },
  {
   "cell_type": "markdown",
   "id": "bd109f32-dbde-4ef6-9cc0-b27bdaa1d94e",
   "metadata": {},
   "source": [
    ">Plot initial visualizations to observe relationships between features and the target variable (Survived)."
   ]
  },
  {
   "cell_type": "code",
   "execution_count": 4,
   "id": "bd096a64-fb8a-4567-8db8-7c0b685d6bd5",
   "metadata": {},
   "outputs": [
    {
     "data": {
      "image/png": "[encoded data removed]",
      "text/plain": [
       "<Figure size 640x480 with 1 Axes>"
      ]
     },
     "metadata": {},
     "output_type": "display_data"
    },
    {
     "data": {
      "image/png": "[encoded data removed]",
      "text/plain": [
       "<Figure size 640x480 with 1 Axes>"
      ]
     },
     "metadata": {},
     "output_type": "display_data"
    },
    {
     "data": {
      "image/png": "[encoded data removed]",
      "text/plain": [
       "<Figure size 640x480 with 1 Axes>"
      ]
     },
     "metadata": {},
     "output_type": "display_data"
    },
    {
     "data": {
      "image/png": "[encoded data removed]",
      "text/plain": [
       "<Figure size 640x480 with 1 Axes>"
      ]
     },
     "metadata": {},
     "output_type": "display_data"
    },
    {
     "data": {
      "image/png": "[encoded data removed]",
      "text/plain": [
       "<Figure size 640x480 with 1 Axes>"
      ]
     },
     "metadata": {},
     "output_type": "display_data"
    }
   ],
   "source": [
    "# Set Seaborn style\n",
    "sns.set(style=\"whitegrid\")\n",
    "\n",
    "# 1. Survival count\n",
    "sns.countplot(x='Survived', data=df)\n",
    "plt.title(\"Survival Count\")\n",
    "plt.show()\n",
    "\n",
    "# 2. Survival by Pclass\n",
    "sns.countplot(x='Pclass', hue='Survived', data=df)\n",
    "plt.title(\"Survival by Passenger Class\")\n",
    "plt.show()\n",
    "\n",
    "# 3. Survival by Sex\n",
    "sns.countplot(x='Sex', hue='Survived', data=df)\n",
    "plt.title(\"Survival by Gender\")\n",
    "plt.show()\n",
    "\n",
    "# 4. Age distribution by survival\n",
    "sns.histplot(data=df, x='Age', hue='Survived', kde=True, bins=30)\n",
    "plt.title(\"Age Distribution by Survival\")\n",
    "plt.show()\n",
    "\n",
    "# 5. Fare distribution by survival\n",
    "sns.boxplot(x='Survived', y='Fare', data=df)\n",
    "plt.title(\"Fare vs Survival\")\n",
    "plt.show()\n"
   ]
  },
  {
   "cell_type": "markdown",
   "id": "80e50d2b-9b3e-4a32-a731-cae9345b1d07",
   "metadata": {},
   "source": [
    "# Data Cleaning and Preprocessing:"
   ]
  },
  {
   "cell_type": "markdown",
   "id": "be22c1b9-3579-449b-8e42-c5eec08086b5",
   "metadata": {},
   "source": [
    ">Identify missing values in the dataset"
   ]
  },
  {
   "cell_type": "code",
   "execution_count": 5,
   "id": "6dda6c9f-6f8e-4e85-ab59-df0f0b5f899e",
   "metadata": {},
   "outputs": [
    {
     "data": {
      "text/plain": [
       "PassengerId       0\n",
       "Pclass            0\n",
       "Name              0\n",
       "Sex               0\n",
       "Age             263\n",
       "SibSp             0\n",
       "Parch             0\n",
       "Ticket            0\n",
       "Fare              1\n",
       "Cabin          1014\n",
       "Embarked          2\n",
       "Survived          0\n",
       "dtype: int64"
      ]
     },
     "execution_count": 5,
     "metadata": {},
     "output_type": "execute_result"
    }
   ],
   "source": [
    "# Check for missing values\n",
    "df.isnull().sum()"
   ]
  },
  {
   "cell_type": "markdown",
   "id": "147d10ee-7dfc-4596-831b-d8ff60d20a07",
   "metadata": {},
   "source": [
    ">Impute missing values using suitable strategies (e.g., mean/median for Age, mode for Embarked, etc.)."
   ]
  },
  {
   "cell_type": "code",
   "execution_count": 6,
   "id": "01bbccbc-e591-4184-b932-539f0d06d522",
   "metadata": {},
   "outputs": [],
   "source": [
    "df['Age'].fillna(df['Age'].median(), inplace=True)\n",
    "df['Embarked'].fillna(df['Embarked'].mode()[0], inplace=True)\n",
    "df['Cabin'].fillna('Unknown', inplace=True)\n"
   ]
  },
  {
   "cell_type": "markdown",
   "id": "15836430-15c2-460c-bd9c-77c1bc1c9188",
   "metadata": {},
   "source": [
    ">Ensure that categorical variables are properly encoded."
   ]
  },
  {
   "cell_type": "code",
   "execution_count": 7,
   "id": "2eb493c3-322e-4cd6-a27f-883bd28fddb6",
   "metadata": {},
   "outputs": [],
   "source": [
    "# Encode  male → 0, female → 1\n",
    "df['Sex'] = df['Sex'].map({'male': 0, 'female': 1})\n",
    "\n",
    "\n"
   ]
  },
  {
   "cell_type": "markdown",
   "id": "8e40c2ee-e6dc-46cd-9fbe-27ba3bb5b956",
   "metadata": {},
   "source": [
    ">Detect and handle outliers in numerical features (e.g., Fare, Age)."
   ]
  },
  {
   "cell_type": "code",
   "execution_count": 8,
   "id": "4c7b7b68-8577-4985-8d8b-c9405a97e189",
   "metadata": {},
   "outputs": [],
   "source": [
    "def remove_outliers(df, column):\n",
    "    Q1 = df[column].quantile(0.25)\n",
    "    Q3 = df[column].quantile(0.75)\n",
    "    IQR = Q3 - Q1\n",
    "    lower_bound = Q1 - 1.5 * IQR\n",
    "    upper_bound = Q3 + 1.5 * IQR\n",
    "    return df[(df[column] >= lower_bound) & (df[column] <= upper_bound)]\n",
    "\n",
    "# Remove outliers in Fare and Age\n",
    "df = remove_outliers(df, 'Fare')\n",
    "df = remove_outliers(df, 'Age')\n"
   ]
  },
  {
   "cell_type": "markdown",
   "id": "984f3a8c-0394-4bb1-848a-a52ab6105e8f",
   "metadata": {},
   "source": [
    "#  Feature Engineering:"
   ]
  },
  {
   "cell_type": "markdown",
   "id": "946ff255-26cf-42f1-9879-bf3b58a62320",
   "metadata": {},
   "source": [
    ">Title Extraction: Extract titles (e.g., Mr, Mrs, Miss) from the Name column and analyze their impact on survival."
   ]
  },
  {
   "cell_type": "code",
   "execution_count": 9,
   "id": "b5b06133-b600-48c7-946b-ac03af3052b5",
   "metadata": {},
   "outputs": [],
   "source": [
    "# Extract Title from Name\n",
    "df['Title'] = df['Name'].str.extract(' ([A-Za-z]+)\\.', expand=False)\n"
   ]
  },
  {
   "cell_type": "markdown",
   "id": "4dc66e68-5df0-4be2-950b-8536766f421c",
   "metadata": {},
   "source": [
    ">Family Size: Create a new feature that combines SibSp and Parch to form FamilySize."
   ]
  },
  {
   "cell_type": "code",
   "execution_count": 10,
   "id": "68323529-3106-4197-af93-4e588ef48ea7",
   "metadata": {},
   "outputs": [],
   "source": [
    "df['FamilySize'] = df['SibSp'] + df['Parch']\n"
   ]
  },
  {
   "cell_type": "markdown",
   "id": "142559f6-9e16-4641-a4ec-30cdfc649e92",
   "metadata": {},
   "source": [
    ">IsAlone: Create a binary feature to indicate if a passenger is alone (i.e., FamilySize = 0)."
   ]
  },
  {
   "cell_type": "code",
   "execution_count": 11,
   "id": "2e689ca3-73f4-4bf7-8efb-a56fd1695e20",
   "metadata": {},
   "outputs": [],
   "source": [
    "df['IsAlone'] = (df['FamilySize'] == 0).astype(int)\n"
   ]
  },
  {
   "cell_type": "markdown",
   "id": "6bb3abbe-4720-4bf3-ab9c-5d0522b7d695",
   "metadata": {},
   "source": [
    ">Fare Bins: Discretize the Fare feature into quartiles."
   ]
  },
  {
   "cell_type": "code",
   "execution_count": 12,
   "id": "c8e7f4c7-1c14-4413-aa22-df30e65a0b03",
   "metadata": {},
   "outputs": [],
   "source": [
    "df['FareBin'] = pd.qcut(df['Fare'], 4, labels=False)\n"
   ]
  },
  {
   "cell_type": "markdown",
   "id": "5497e759-b4a0-4a41-bee6-3429c557c744",
   "metadata": {},
   "source": [
    ">Age Bins: Group the Age feature into bins to capture age ranges."
   ]
  },
  {
   "cell_type": "code",
   "execution_count": 13,
   "id": "7c41c797-9af3-4b25-9354-e3ff32fd3a5c",
   "metadata": {},
   "outputs": [],
   "source": [
    "df['AgeBin'] = pd.cut(df['Age'], bins=[0, 12, 20, 40, 60, 80], labels=['Child', 'Teen', 'Adult', 'Mid-Age', 'Senior'])\n"
   ]
  },
  {
   "cell_type": "markdown",
   "id": "89212e21-c531-49c6-8ef7-147850a1e1a9",
   "metadata": {},
   "source": [
    ">Deck Feature: Extract the deck information from the Cabin column."
   ]
  },
  {
   "cell_type": "code",
   "execution_count": 14,
   "id": "623c61b5-e823-40c4-a43f-898622e834c2",
   "metadata": {},
   "outputs": [],
   "source": [
    "if 'Cabin' in df.columns:\n",
    "    df['Deck'] = df['Cabin'].astype(str).str[0]\n"
   ]
  },
  {
   "cell_type": "markdown",
   "id": "c9f88a69-3232-450c-bc79-4b52b14bf320",
   "metadata": {},
   "source": [
    ">Interaction Features: Create interaction features that combine different variables (e.g., Pclass and Sex)."
   ]
  },
  {
   "cell_type": "code",
   "execution_count": 15,
   "id": "660b56a3-68c6-4a73-b270-ad1daa55802b",
   "metadata": {},
   "outputs": [],
   "source": [
    "df['PclassSex'] = df['Pclass'].astype(str) + '_' + df['Sex'].astype(str)\n"
   ]
  },
  {
   "cell_type": "markdown",
   "id": "9e65fe9b-2db8-4f3a-b018-e804c2ab2fd9",
   "metadata": {},
   "source": [
    ">Feature Encoding: Encode categorical features using methods like One-Hot Encoding."
   ]
  },
  {
   "cell_type": "code",
   "execution_count": 16,
   "id": "45f37eda-44a0-4996-b4e7-39459a3b7340",
   "metadata": {},
   "outputs": [],
   "source": [
    "# Encode categorical features\n",
    "df = pd.get_dummies(df, columns=['Sex', 'Embarked', 'Title', 'AgeBin', 'Deck', 'PclassSex'], drop_first=True)\n"
   ]
  },
  {
   "cell_type": "code",
   "execution_count": 17,
   "id": "0e34b750-12c3-4b30-aed3-71d80199008e",
   "metadata": {},
   "outputs": [
    {
     "name": "stdout",
     "output_type": "stream",
     "text": [
      "<class 'pandas.core.frame.DataFrame'>\n",
      "Index: 1011 entries, 0 to 1308\n",
      "Data columns (total 45 columns):\n",
      " #   Column          Non-Null Count  Dtype  \n",
      "---  ------          --------------  -----  \n",
      " 0   PassengerId     1011 non-null   int64  \n",
      " 1   Pclass          1011 non-null   int64  \n",
      " 2   Name            1011 non-null   object \n",
      " 3   Age             1011 non-null   float64\n",
      " 4   SibSp           1011 non-null   int64  \n",
      " 5   Parch           1011 non-null   int64  \n",
      " 6   Ticket          1011 non-null   object \n",
      " 7   Fare            1011 non-null   float64\n",
      " 8   Cabin           1011 non-null   object \n",
      " 9   Survived        1011 non-null   int64  \n",
      " 10  FamilySize      1011 non-null   int64  \n",
      " 11  IsAlone         1011 non-null   int64  \n",
      " 12  FareBin         1011 non-null   int64  \n",
      " 13  Sex_1           1011 non-null   bool   \n",
      " 14  Embarked_Q      1011 non-null   bool   \n",
      " 15  Embarked_S      1011 non-null   bool   \n",
      " 16  Title_Dr        1011 non-null   bool   \n",
      " 17  Title_Jonkheer  1011 non-null   bool   \n",
      " 18  Title_Lady      1011 non-null   bool   \n",
      " 19  Title_Major     1011 non-null   bool   \n",
      " 20  Title_Master    1011 non-null   bool   \n",
      " 21  Title_Miss      1011 non-null   bool   \n",
      " 22  Title_Mlle      1011 non-null   bool   \n",
      " 23  Title_Mr        1011 non-null   bool   \n",
      " 24  Title_Mrs       1011 non-null   bool   \n",
      " 25  Title_Ms        1011 non-null   bool   \n",
      " 26  Title_Rev       1011 non-null   bool   \n",
      " 27  Title_Sir       1011 non-null   bool   \n",
      " 28  AgeBin_Teen     1011 non-null   bool   \n",
      " 29  AgeBin_Adult    1011 non-null   bool   \n",
      " 30  AgeBin_Mid-Age  1011 non-null   bool   \n",
      " 31  AgeBin_Senior   1011 non-null   bool   \n",
      " 32  Deck_B          1011 non-null   bool   \n",
      " 33  Deck_C          1011 non-null   bool   \n",
      " 34  Deck_D          1011 non-null   bool   \n",
      " 35  Deck_E          1011 non-null   bool   \n",
      " 36  Deck_F          1011 non-null   bool   \n",
      " 37  Deck_G          1011 non-null   bool   \n",
      " 38  Deck_T          1011 non-null   bool   \n",
      " 39  Deck_U          1011 non-null   bool   \n",
      " 40  PclassSex_1_1   1011 non-null   bool   \n",
      " 41  PclassSex_2_0   1011 non-null   bool   \n",
      " 42  PclassSex_2_1   1011 non-null   bool   \n",
      " 43  PclassSex_3_0   1011 non-null   bool   \n",
      " 44  PclassSex_3_1   1011 non-null   bool   \n",
      "dtypes: bool(32), float64(2), int64(8), object(3)\n",
      "memory usage: 142.2+ KB\n"
     ]
    }
   ],
   "source": [
    "df.info()"
   ]
  },
  {
   "cell_type": "code",
   "execution_count": 18,
   "id": "9d61ebaa-849b-45af-af58-c40f16fdd659",
   "metadata": {},
   "outputs": [
    {
     "data": {
      "text/html": [
       "<div>\n",
       "<style scoped>\n",
       "    .dataframe tbody tr th:only-of-type {\n",
       "        vertical-align: middle;\n",
       "    }\n",
       "\n",
       "    .dataframe tbody tr th {\n",
       "        vertical-align: top;\n",
       "    }\n",
       "\n",
       "    .dataframe thead th {\n",
       "        text-align: right;\n",
       "    }\n",
       "</style>\n",
       "<table border=\"1\" class=\"dataframe\">\n",
       "  <thead>\n",
       "    <tr style=\"text-align: right;\">\n",
       "      <th></th>\n",
       "      <th>PassengerId</th>\n",
       "      <th>Pclass</th>\n",
       "      <th>Name</th>\n",
       "      <th>Age</th>\n",
       "      <th>SibSp</th>\n",
       "      <th>Parch</th>\n",
       "      <th>Ticket</th>\n",
       "      <th>Fare</th>\n",
       "      <th>Cabin</th>\n",
       "      <th>Survived</th>\n",
       "      <th>...</th>\n",
       "      <th>Deck_E</th>\n",
       "      <th>Deck_F</th>\n",
       "      <th>Deck_G</th>\n",
       "      <th>Deck_T</th>\n",
       "      <th>Deck_U</th>\n",
       "      <th>PclassSex_1_1</th>\n",
       "      <th>PclassSex_2_0</th>\n",
       "      <th>PclassSex_2_1</th>\n",
       "      <th>PclassSex_3_0</th>\n",
       "      <th>PclassSex_3_1</th>\n",
       "    </tr>\n",
       "  </thead>\n",
       "  <tbody>\n",
       "    <tr>\n",
       "      <th>0</th>\n",
       "      <td>1</td>\n",
       "      <td>3</td>\n",
       "      <td>Braund, Mr. Owen Harris</td>\n",
       "      <td>22.0</td>\n",
       "      <td>1</td>\n",
       "      <td>0</td>\n",
       "      <td>A/5 21171</td>\n",
       "      <td>7.2500</td>\n",
       "      <td>Unknown</td>\n",
       "      <td>0</td>\n",
       "      <td>...</td>\n",
       "      <td>False</td>\n",
       "      <td>False</td>\n",
       "      <td>False</td>\n",
       "      <td>False</td>\n",
       "      <td>True</td>\n",
       "      <td>False</td>\n",
       "      <td>False</td>\n",
       "      <td>False</td>\n",
       "      <td>True</td>\n",
       "      <td>False</td>\n",
       "    </tr>\n",
       "    <tr>\n",
       "      <th>2</th>\n",
       "      <td>3</td>\n",
       "      <td>3</td>\n",
       "      <td>Heikkinen, Miss. Laina</td>\n",
       "      <td>26.0</td>\n",
       "      <td>0</td>\n",
       "      <td>0</td>\n",
       "      <td>STON/O2. 3101282</td>\n",
       "      <td>7.9250</td>\n",
       "      <td>Unknown</td>\n",
       "      <td>1</td>\n",
       "      <td>...</td>\n",
       "      <td>False</td>\n",
       "      <td>False</td>\n",
       "      <td>False</td>\n",
       "      <td>False</td>\n",
       "      <td>True</td>\n",
       "      <td>False</td>\n",
       "      <td>False</td>\n",
       "      <td>False</td>\n",
       "      <td>False</td>\n",
       "      <td>True</td>\n",
       "    </tr>\n",
       "    <tr>\n",
       "      <th>3</th>\n",
       "      <td>4</td>\n",
       "      <td>1</td>\n",
       "      <td>Futrelle, Mrs. Jacques Heath (Lily May Peel)</td>\n",
       "      <td>35.0</td>\n",
       "      <td>1</td>\n",
       "      <td>0</td>\n",
       "      <td>113803</td>\n",
       "      <td>53.1000</td>\n",
       "      <td>C123</td>\n",
       "      <td>1</td>\n",
       "      <td>...</td>\n",
       "      <td>False</td>\n",
       "      <td>False</td>\n",
       "      <td>False</td>\n",
       "      <td>False</td>\n",
       "      <td>False</td>\n",
       "      <td>True</td>\n",
       "      <td>False</td>\n",
       "      <td>False</td>\n",
       "      <td>False</td>\n",
       "      <td>False</td>\n",
       "    </tr>\n",
       "    <tr>\n",
       "      <th>4</th>\n",
       "      <td>5</td>\n",
       "      <td>3</td>\n",
       "      <td>Allen, Mr. William Henry</td>\n",
       "      <td>35.0</td>\n",
       "      <td>0</td>\n",
       "      <td>0</td>\n",
       "      <td>373450</td>\n",
       "      <td>8.0500</td>\n",
       "      <td>Unknown</td>\n",
       "      <td>0</td>\n",
       "      <td>...</td>\n",
       "      <td>False</td>\n",
       "      <td>False</td>\n",
       "      <td>False</td>\n",
       "      <td>False</td>\n",
       "      <td>True</td>\n",
       "      <td>False</td>\n",
       "      <td>False</td>\n",
       "      <td>False</td>\n",
       "      <td>True</td>\n",
       "      <td>False</td>\n",
       "    </tr>\n",
       "    <tr>\n",
       "      <th>5</th>\n",
       "      <td>6</td>\n",
       "      <td>3</td>\n",
       "      <td>Moran, Mr. James</td>\n",
       "      <td>28.0</td>\n",
       "      <td>0</td>\n",
       "      <td>0</td>\n",
       "      <td>330877</td>\n",
       "      <td>8.4583</td>\n",
       "      <td>Unknown</td>\n",
       "      <td>0</td>\n",
       "      <td>...</td>\n",
       "      <td>False</td>\n",
       "      <td>False</td>\n",
       "      <td>False</td>\n",
       "      <td>False</td>\n",
       "      <td>True</td>\n",
       "      <td>False</td>\n",
       "      <td>False</td>\n",
       "      <td>False</td>\n",
       "      <td>True</td>\n",
       "      <td>False</td>\n",
       "    </tr>\n",
       "  </tbody>\n",
       "</table>\n",
       "<p>5 rows × 45 columns</p>\n",
       "</div>"
      ],
      "text/plain": [
       "   PassengerId  Pclass                                          Name   Age  \\\n",
       "0            1       3                       Braund, Mr. Owen Harris  22.0   \n",
       "2            3       3                        Heikkinen, Miss. Laina  26.0   \n",
       "3            4       1  Futrelle, Mrs. Jacques Heath (Lily May Peel)  35.0   \n",
       "4            5       3                      Allen, Mr. William Henry  35.0   \n",
       "5            6       3                              Moran, Mr. James  28.0   \n",
       "\n",
       "   SibSp  Parch            Ticket     Fare    Cabin  Survived  ...  Deck_E  \\\n",
       "0      1      0         A/5 21171   7.2500  Unknown         0  ...   False   \n",
       "2      0      0  STON/O2. 3101282   7.9250  Unknown         1  ...   False   \n",
       "3      1      0            113803  53.1000     C123         1  ...   False   \n",
       "4      0      0            373450   8.0500  Unknown         0  ...   False   \n",
       "5      0      0            330877   8.4583  Unknown         0  ...   False   \n",
       "\n",
       "   Deck_F  Deck_G  Deck_T  Deck_U  PclassSex_1_1  PclassSex_2_0  \\\n",
       "0   False   False   False    True          False          False   \n",
       "2   False   False   False    True          False          False   \n",
       "3   False   False   False   False           True          False   \n",
       "4   False   False   False    True          False          False   \n",
       "5   False   False   False    True          False          False   \n",
       "\n",
       "   PclassSex_2_1  PclassSex_3_0  PclassSex_3_1  \n",
       "0          False           True          False  \n",
       "2          False          False           True  \n",
       "3          False          False          False  \n",
       "4          False           True          False  \n",
       "5          False           True          False  \n",
       "\n",
       "[5 rows x 45 columns]"
      ]
     },
     "execution_count": 18,
     "metadata": {},
     "output_type": "execute_result"
    }
   ],
   "source": [
    "df.head()\n"
   ]
  },
  {
   "cell_type": "markdown",
   "id": "8be48497-b31d-4f3b-a881-004315798177",
   "metadata": {},
   "source": [
    "# THE END"
   ]
  }
 ],
 "metadata": {
  "kernelspec": {
   "display_name": "Python 3 (ipykernel)",
   "language": "python",
   "name": "python3"
  },
  "language_info": {
   "codemirror_mode": {
    "name": "ipython",
    "version": 3
   },
   "file_extension": ".py",
   "mimetype": "text/x-python",
   "name": "python",
   "nbconvert_exporter": "python",
   "pygments_lexer": "ipython3",
   "version": "3.12.7"
  }
 },
 "nbformat": 4,
 "nbformat_minor": 5
}
